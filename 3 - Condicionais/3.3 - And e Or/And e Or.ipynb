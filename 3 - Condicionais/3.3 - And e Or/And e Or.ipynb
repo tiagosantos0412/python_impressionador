{
 "cells": [
  {
   "cell_type": "markdown",
   "metadata": {},
   "source": [
    "# Casos com várias condições/comparações\n",
    "\n",
    "### Estrutura:\n",
    "\n",
    "Quando temos várias comparações, ao invés de criar if dentro de if podemos usar os operadores \"and\" e \"or\" para tratar essas condições.\n",
    "\n",
    "Funciona assim:"
   ]
  },
  {
   "cell_type": "raw",
   "metadata": {},
   "source": [
    "if condicao_1 and condicao_2:\n",
    "    vai ser executado se as 2 condições forem verdadeiras ao mesmo tempo\n",
    "\n",
    "outro caso:\n",
    "\n",
    "if condicao_1 or condicao_2:\n",
    "    vai ser executado se pelo menos uma das condições forem verdadeiras"
   ]
  },
  {
   "cell_type": "markdown",
   "metadata": {},
   "source": [
    "### Exemplo\n",
    "\n",
    "Vamos voltar ao exemplo de cálculo de meta de vendas dos funcionários. Muitas empresas atribuem bonificação do salário dos funcionários de acordo com o resultado do funcionário e também com o resultado da empresa como um todo.\n",
    "\n",
    "Nesse caso, a regra funciona da seguinte forma:\n",
    "- Se o funcionário vendeu mais do que a meta de vendas e a loja bateu a meta de vendas da loja, o funcionário ganha 3% do que ele vendeu em forma de bônus.\n",
    "- Caso o funcionário tenha batido a meta de vendas individual dele, mas a loja não tenha batido a meta de vendas da loja como um todo, o funcionário não ganha bônus."
   ]
  },
  {
   "cell_type": "code",
   "execution_count": 1,
   "metadata": {},
   "outputs": [
    {
     "name": "stdout",
     "output_type": "stream",
     "text": [
      "O funcionário Tiago, e a loja bateram as metas! \n",
      "Seu pagamento será de 15656.0\n"
     ]
    }
   ],
   "source": [
    "nome_funcionario = \"Tiago\"\n",
    "meta_funcionario = 10000\n",
    "meta_loja = 250000\n",
    "vendas_funcionario = 15200\n",
    "vendas_loja = 280000\n",
    "salario = 0\n",
    "\n",
    "if vendas_funcionario > meta_funcionario and vendas_loja > meta_loja:\n",
    "    bonus = vendas_funcionario * 0.03\n",
    "    salario = vendas_funcionario + bonus\n",
    "    print(f'O funcionário {nome_funcionario}, e a loja bateram as metas! \\nSeu pagamento será de {salario}')\n",
    "else:\n",
    "    salario = vendas_funcionario\n",
    "    print(f'O funcionário {nome_funcionario}, e a loja não bateram as metas! \\nO pagamento será de {salario}')"
   ]
  },
  {
   "cell_type": "markdown",
   "metadata": {},
   "source": [
    "### Outro exemplo\n",
    "\n",
    "Agora vamos levar essa análise mais a fundo.\n",
    "\n",
    "Nessa empresa, existe um outro caso também que garante que o funcionário ganhe um bônus, independente das vendas que ele fez naquele mês.\n",
    "\n",
    "Todo mês os diretores da empresa fazem uma avaliação qualitativa de todos os funcionários. Nessa avaliação os diretores dão uma nota de 0 a 10 para cada funcionário. Se a nota do funcionário for 9 ou 10, ele também ganha o bônus de 3% do valor de vendas. (os bônus não são cumulativos)"
   ]
  },
  {
   "cell_type": "code",
   "execution_count": 17,
   "metadata": {},
   "outputs": [
    {
     "name": "stdout",
     "output_type": "stream",
     "text": [
      "O funcionário Tiago, conseguiu o bônus! \n",
      "Seu pagamento será de 10506.0\n"
     ]
    }
   ],
   "source": [
    "nome_funcionario = \"Tiago\"\n",
    "meta_funcionario = 10000\n",
    "meta_loja = 200000\n",
    "vendas_funcionario = 10200\n",
    "vendas_loja = 250000\n",
    "salario = 0\n",
    "notas_gestores = 8\n",
    "\n",
    "if (notas_gestores >= 9) or (vendas_funcionario > meta_funcionario and vendas_loja > meta_loja):\n",
    "    bonus = vendas_funcionario * 0.03\n",
    "    salario = vendas_funcionario + bonus\n",
    "    print(f'O funcionário {nome_funcionario}, conseguiu o bônus! \\nSeu pagamento será de {salario}')\n",
    "else:\n",
    "    salario = vendas_funcionario\n",
    "    print(f'O funcionário {nome_funcionario}, não conseguiu o bônus! \\nO pagamento será de {salario}')"
   ]
  }
 ],
 "metadata": {
  "kernelspec": {
   "display_name": "Python 3 (ipykernel)",
   "language": "python",
   "name": "python3"
  },
  "language_info": {
   "codemirror_mode": {
    "name": "ipython",
    "version": 3
   },
   "file_extension": ".py",
   "mimetype": "text/x-python",
   "name": "python",
   "nbconvert_exporter": "python",
   "pygments_lexer": "ipython3",
   "version": "3.11.5"
  }
 },
 "nbformat": 4,
 "nbformat_minor": 4
}
