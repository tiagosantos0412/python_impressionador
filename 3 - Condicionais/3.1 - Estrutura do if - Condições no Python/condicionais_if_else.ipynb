{
 "cells": [
  {
   "cell_type": "markdown",
   "id": "e639ead2",
   "metadata": {},
   "source": [
    "\n",
    "# Condições no Python -> If\n",
    "\n",
    "## Estrutura:\n",
    "\n",
    "### Uso mais simples:\n",
    "\n",
    "if condição:  \n",
    ">o que fazer caso a condição seja verdadeira\n",
    "\n",
    "### Exemplo Real (informações 100% hipotéticas e inventadas):\n",
    "\n",
    "Digamos que você trabalha na Amazon (que tem centenas de milhares, se não milhões de produtos) e está analisando o resultado de vendas dos produtos.\n",
    "\n",
    "Você precisa criar um programa que vai analisar o resultado de vendas dos produtos da Amazon em um mês. Para simplificar vamos pensar em um único produto: um Iphone.\n",
    "\n",
    "Meta de Vendas do Iphone = 50.000 unidades<br>\n",
    "Quantidade vendida no Mês = 65.300 unidades\n",
    "\n",
    "O seu programa deve avisar (usaremos o print por enquanto) caso o produto tenha batido a meta do mês. Então devemos fazer:<br>\n",
    "- Caso o produto tenha batido a meta, devemos exibir a mensagem: \"Batemos a meta de vendas de Iphone, vendemos {} unidades\" \n",
    "- Se ele não bateu a meta do mês, o seu programa não deve fazer nada"
   ]
  },
  {
   "cell_type": "code",
   "execution_count": 7,
   "id": "347bf277",
   "metadata": {},
   "outputs": [
    {
     "name": "stdout",
     "output_type": "stream",
     "text": [
      "Batemos a meta de vendas do Iphone, vendemos 55300 unidades.\n"
     ]
    }
   ],
   "source": [
    "meta = 50000\n",
    "qtd_vendida = 55300\n",
    "\n",
    "if qtd_vendida >= meta:\n",
    "    print(f'Batemos a meta de vendas do Iphone, vendemos {qtd_vendida} unidades.')\n",
    "else:\n",
    "    print(f'Não batemos a meta de vendas do Iphone, vendemos {qtd_vendida} unidades.')"
   ]
  },
  {
   "cell_type": "markdown",
   "id": "aafcc8aa",
   "metadata": {},
   "source": [
    "## Blocos de identação\n",
    "\n",
    "### Estrutura\n",
    "\n",
    "Sempre que usamos if ou qualquer estrutra no Python, devemso usar a identação para dizer para o programa onde a estrutura começa e onde ela termina.\n",
    "Isso vai ajudar muito quando tivermos mais de 1 condição ao mesmo tempo e quando tivermos várias ações para fazer dentro de um if.  \n",
    "\n",
    "**Várias ações em 1 if:**\n",
    "\n",
    "if condicao:\n",
    ">alguma coisa  \n",
    "outra coisa  \n",
    "outra coisa mais  \n",
    "outra coisa ainda mais  \n",
    "\n",
    "else:\n",
    ">uma coisa  \n",
    "uma coisa mais  \n",
    "coisa final    \n",
    "\n",
    "### Exemplo\n",
    "\n",
    "A regra desse fundo de investimentos é:\n",
    "\n",
    "- O fundo se compromete a entregar no mínimo 5% de retorno ao ano.\n",
    "- Caso o fundo não consiga entregar os 5% de retorno, ele não pode cobrar taxa dos seus investidores.\n",
    "- Caso o fundo consiga entregar mais de 5% de retorno, ele irá cobrar 2% de taxa dos seus investidores.\n",
    "- Caso o fundo consiga mais de 20% de retorno, ele irá cobrar 4% de taxa dos seus investidores.\n",
    "\n"
   ]
  },
  {
   "cell_type": "code",
   "execution_count": 18,
   "id": "fc6f6a5b",
   "metadata": {},
   "outputs": [
    {
     "name": "stdout",
     "output_type": "stream",
     "text": [
      "Taxa cobrada de 0!\n"
     ]
    }
   ],
   "source": [
    "meta = 0.05\n",
    "rendimento = 0.03\n",
    "taxa = 0\n",
    "\n",
    "if rendimento > meta:\n",
    "    if rendimento > 0.20:\n",
    "        taxa = 0.04\n",
    "        print(f'Taxa cobrada de {taxa}!')\n",
    "    else:\n",
    "        taxa = 0.02\n",
    "        print(f'Taxa cobrada de {taxa}!')\n",
    "else:\n",
    "    print(f'Taxa cobrada de {taxa}!')"
   ]
  },
  {
   "cell_type": "markdown",
   "id": "e4299a27",
   "metadata": {},
   "source": [
    "### Elif\n",
    "E se temos mais de um caso de sim e não?  \n",
    "E se tivermos 3 casos?  \n",
    "Usamos o elif da seguinte:\n",
    "\n",
    "if condição:\n",
    "> o que fazer se a condição 1 for verdadeira\n",
    "\n",
    "elif condição_2:\n",
    "> o que fazer se a condição 1 for falsa e a condição 2 for verdadeira\n",
    "\n",
    "else:\n",
    "> o que fazer se a condição 1 e a condição 2 forem falsas\n",
    "\n",
    "\n",
    "### Exemplo:\n",
    "\n",
    "Vamos criar um programa para analisar o bônus dos funcionários de uma empresa (pode parecer \"simples\", mas uma empresa como a Amazon tem 900.000 funcionários)\n",
    "\n",
    "Para os cargos de vendedores, a regra do bônus é de acordo com a meta de vendas da pessoa:\n",
    "\n",
    "Se ela vendeu abaixo da meta dela, ela não ganha bônus.\n",
    "\n",
    "Se ela vendeu acima da meta dela, ela ganha como bônus 3% do valor que ela vendeu.\n",
    "\n",
    "Se ela vendeu mais do que o dobro da meta dela, ela ganha como bônus 7% do valor que ela vendeu.\n",
    "\n",
    "Vamos criar um programa para avaliar uma pessoa que tinha como meta de vendas 20.000 reais e calcular o bônus dela de acordo com o valor de vendas que ela tiver."
   ]
  },
  {
   "cell_type": "code",
   "execution_count": 80,
   "id": "d4db05b4",
   "metadata": {},
   "outputs": [
    {
     "name": "stdout",
     "output_type": "stream",
     "text": [
      "Parabéns! Você dobrou a meta e ganhou 2800.0000000000005 de bônus!\n",
      "Seu pagamento será de: 42800.0\n"
     ]
    }
   ],
   "source": [
    "meta = 20000\n",
    "vendas = 40000\n",
    "pagamento = 0\n",
    "\n",
    "if vendas < meta:\n",
    "    pagamento = vendas\n",
    "    print('Não ganhou bônus!')\n",
    "    print(f'Seu pagamento será de: {pagamento}')\n",
    "elif vendas >= (meta * 2):\n",
    "    bonus = 0.07 * vendas\n",
    "    pagamento = bonus + vendas\n",
    "    print(f'Parabéns! Você dobrou a meta e ganhou {bonus} de bônus!')\n",
    "    print(f'Seu pagamento será de: {pagamento}')\n",
    "else:\n",
    "    bonus = 0.03 * vendas\n",
    "    pagamento = bonus + vendas\n",
    "    print(f'Ganhou {bonus} de bônus!')\n",
    "    print(f'Seu pagamento será de: {pagamento}')\n"
   ]
  }
 ],
 "metadata": {
  "kernelspec": {
   "display_name": "Python 3 (ipykernel)",
   "language": "python",
   "name": "python3"
  },
  "language_info": {
   "codemirror_mode": {
    "name": "ipython",
    "version": 3
   },
   "file_extension": ".py",
   "mimetype": "text/x-python",
   "name": "python",
   "nbconvert_exporter": "python",
   "pygments_lexer": "ipython3",
   "version": "3.11.5"
  }
 },
 "nbformat": 4,
 "nbformat_minor": 5
}
