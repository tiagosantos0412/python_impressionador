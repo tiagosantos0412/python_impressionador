{
 "cells": [
  {
   "cell_type": "markdown",
   "id": "fabdcfc9",
   "metadata": {},
   "source": [
    "## Comparadores"
   ]
  },
  {
   "cell_type": "raw",
   "id": "8808f14a",
   "metadata": {},
   "source": [
    "==    igual\n",
    "!=    diferente\n",
    ">     maior que (>= maior ou igual)\n",
    "<     menor que (<= menor ou igual)\n",
    "in    texto existe dentro de outro texto \n",
    "not   verifica o contrário da comparação\n",
    "\n",
    "Obs: Se em alguma condição você não quiser fazer nada, você pode simplesmente escrever:\n",
    "pass"
   ]
  },
  {
   "cell_type": "code",
   "execution_count": 15,
   "id": "221bec5f",
   "metadata": {},
   "outputs": [
    {
     "name": "stdout",
     "output_type": "stream",
     "text": [
      "Programa I\n",
      " Os faturamentos são diferentes:\n",
      " Loja 1: 2500 \n",
      " Loja 2: 2200\n"
     ]
    }
   ],
   "source": [
    "faturamento_loja_1 = 2500\n",
    "faturamento_loja_2 = 2200\n",
    "\n",
    "\n",
    "print(\"Programa I\")\n",
    "if faturamento_loja_1 == faturamento_loja_2:\n",
    "    print(f'Os faturamentos são Iguais:\\n Loja 1: {faturamento_loja_1} \\n Loja 2: {faturamento_loja_2}')\n",
    "else:\n",
    "    print(f' Os faturamentos são diferentes:\\n Loja 1: {faturamento_loja_1} \\n Loja 2: {faturamento_loja_2}')"
   ]
  },
  {
   "cell_type": "code",
   "execution_count": null,
   "id": "e2d9146d",
   "metadata": {},
   "outputs": [],
   "source": [
    "print(\"Programa II\")\n",
    "if email == 'tiagosantos412.com.br':\n",
    "    print('Email correto')\n",
    "else:\n",
    "    print('Email errado')"
   ]
  },
  {
   "cell_type": "code",
   "execution_count": 34,
   "id": "42d113ac",
   "metadata": {},
   "outputs": [
    {
     "name": "stdout",
     "output_type": "stream",
     "text": [
      "Programa III\n",
      "Insira seu e-mail:tiago\n",
      "Email inválido! Faça conforme o exemplo...seuEmail@provedor.com.br\n"
     ]
    }
   ],
   "source": [
    "print(\"Programa III\")\n",
    "email = input(\"Insira seu e-mail:\")\n",
    "if not '@' in email:\n",
    "    print(\"Email inválido! Faça conforme o exemplo...seuEmail@provedor.com.br\")\n",
    "else:\n",
    "    pass"
   ]
  }
 ],
 "metadata": {
  "kernelspec": {
   "display_name": "Python 3 (ipykernel)",
   "language": "python",
   "name": "python3"
  },
  "language_info": {
   "codemirror_mode": {
    "name": "ipython",
    "version": 3
   },
   "file_extension": ".py",
   "mimetype": "text/x-python",
   "name": "python",
   "nbconvert_exporter": "python",
   "pygments_lexer": "ipython3",
   "version": "3.11.5"
  }
 },
 "nbformat": 4,
 "nbformat_minor": 5
}
