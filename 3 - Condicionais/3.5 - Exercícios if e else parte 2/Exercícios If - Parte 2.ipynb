{
 "cells": [
  {
   "cell_type": "markdown",
   "metadata": {},
   "source": [
    "# Exercícios"
   ]
  },
  {
   "cell_type": "markdown",
   "metadata": {},
   "source": [
    "## 1. Criando um mini sistema de controle de estoque\n",
    "\n",
    "- Crie um sistema para ser usado pelo time de controle de estoque de um centro de distribuição.\n",
    "- Imagine que ao fim de todo dia, o time conta quantas unidades de produto existem no estoque. Se tivermos um estoque abaixo do estoque permitido para aquela categoria do produto, o time deve ser avisado (print) para fazer um novo pedido daquele produto.\n",
    "- Cada categoria de produto tem um estoque mínimo diferente, segundo a regra abaixo:\n",
    "\n",
    "- alimentos -> Estoque mínimo: 50\n",
    "- bebidas -> Estoque mínimo: 75\n",
    "- limpeza -> Estoque mínimo: 30\n",
    "\n",
    "Para isso vamos criar um programa que pede 3 inputs do usuário: nome do produto, categoria e quantidade atual em estoque.\n",
    "\n",
    "Se o produto tiver abaixo do estoque mínimo da categoria dele, o programa deve printar a mensagem \"Solicitar {produto} à equipe de compras, temos apenas {unidades} em estoque\"\n",
    "\n",
    "Exemplo: Se o usuário preenche os inputs com: bebidas, dolly, 90, o programa não deve exibir nenhuma mensagem.<br>\n",
    "Agora, se o usuário preenche os inputs com: bebidas, guaraná, 60, o programa deve exibir a mensagem \"Solicitar guaraná à equipe de compras, temos apenas 60 unidades em estoque.\n",
    "\n",
    "Obs: lembre de usar o int() para transformar o número inserido pelo usuário no input de string para int.<br>\n",
    "Obs2: Caso o usuário não preencha alguma das 3 informações, o programa deve exibir uma mensagem para avisá-lo de preencher corretamente."
   ]
  },
  {
   "cell_type": "code",
   "execution_count": 29,
   "metadata": {},
   "outputs": [
    {
     "name": "stdout",
     "output_type": "stream",
     "text": [
      "********************************************************************************************************\n",
      "*                               Sistema de contagem de produtos                                        *\n",
      "********************************************************************************************************\n",
      "--------------------------------------------------------------------------------------------------------\n",
      " Selecione a categoria dos produtos:\n",
      "1 => Alimentos\n",
      "2 => Bebidas\n",
      "3 => Materiais de Limpeza \n",
      "1\n",
      "--------------------------------------------------------------------------------------------------------\n",
      "Digite o tipo do alimento...ex: Arroz Camil 5kg:Arroz Guacira 5Kg\n",
      "Digite a quantidade do produto Arroz Guacira 5Kg, em estoque\n",
      "70\n",
      "\n",
      "Fim do programa!\n",
      "--------------------------------------------------------------------------------------------------------\n"
     ]
    }
   ],
   "source": [
    "estoque_alimentos = 50\n",
    "estoque_bebidas = 75\n",
    "estoque_mat_limpeza = 30\n",
    "produto = ''\n",
    "categoria = ''\n",
    "\n",
    "print(\"********************************************************************************************************\")\n",
    "print(\"*                               Sistema de contagem de produtos                                        *\")\n",
    "print(\"********************************************************************************************************\")\n",
    "print(\"--------------------------------------------------------------------------------------------------------\")\n",
    "print(\" Selecione a categoria dos produtos:\\n1 => Alimentos\\n2 => Bebidas\\n3 => Materiais de Limpeza \")\n",
    "\n",
    "try:\n",
    "    categoria = int(input())\n",
    "except ValueError:\n",
    "    print(\"Por favor, insira um número inteiro válido.\")\n",
    "\n",
    "print(\"--------------------------------------------------------------------------------------------------------\")\n",
    "\n",
    "if categoria == 1:\n",
    "    produto = input(\"Digite o tipo do alimento...ex: Arroz Camil 5kg:\")\n",
    "    try:\n",
    "        qtd_alimento = int(input(f\"Digite a quantidade do produto {produto}, em estoque\\n\"))\n",
    "        if qtd_alimento < estoque_alimentos:\n",
    "            print(f\"Solicitar {produto} ao setor de compras. Temos apenas {qtd_alimento} em estoque!\")\n",
    "    except ValueError:\n",
    "        print(\"Por favor, insira um número inteiro válido.\")\n",
    "\n",
    "elif categoria == 2:\n",
    "    produto = input(\"Digite o tipo da bebida...ex: Coca Cola 2L:\")\n",
    "    try:\n",
    "        qtd_bebida = int(input(f\"Digite a quantidade do produto {produto}, em estoque\\n\"))\n",
    "        if qtd_bebida < estoque_bebidas:\n",
    "            print(f\"Solicitar {produto} ao setor de compras. Temos apenas {qtd_bebida} em estoque!\")\n",
    "    except ValueError:\n",
    "        print(\"Por favor, insira um número inteiro válido.\")\n",
    "\n",
    "elif categoria == 3:\n",
    "    produto = input(\"Digite o tipo do material de limpeza...ex: Desinfetante 1L:\")\n",
    "    try:\n",
    "        qtd_mat_limpeza = int(input(f\"Digite a quantidade do produto {produto}, em estoque\\n\"))\n",
    "        if qtd_mat_limpeza < estoque_mat_limpeza:\n",
    "            print(f\"Solicitar {produto} ao setor de compras. Temos apenas {qtd_mat_limpeza} em estoque!\")\n",
    "    except ValueError:\n",
    "        print(\"Por favor, insira um número inteiro válido.\")\n",
    "\n",
    "print(\"\\nFim do programa!\")\n",
    "print(\"--------------------------------------------------------------------------------------------------------\")\n",
    "    "
   ]
  }
 ],
 "metadata": {
  "kernelspec": {
   "display_name": "Python 3 (ipykernel)",
   "language": "python",
   "name": "python3"
  },
  "language_info": {
   "codemirror_mode": {
    "name": "ipython",
    "version": 3
   },
   "file_extension": ".py",
   "mimetype": "text/x-python",
   "name": "python",
   "nbconvert_exporter": "python",
   "pygments_lexer": "ipython3",
   "version": "3.11.5"
  }
 },
 "nbformat": 4,
 "nbformat_minor": 4
}
