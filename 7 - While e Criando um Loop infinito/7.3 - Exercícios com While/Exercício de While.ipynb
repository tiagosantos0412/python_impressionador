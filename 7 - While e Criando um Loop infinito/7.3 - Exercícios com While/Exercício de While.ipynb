{
 "cells": [
  {
   "cell_type": "markdown",
   "metadata": {},
   "source": [
    "# Exercícios\n",
    "\n",
    "## 1. Input até o usuário parar\n",
    "\n",
    "Vamos criar um sistema de vendas. Nosso programa deve registrar os produtos e as quantidades (2 inputs) e adicionar em uma lista.\n",
    "\n",
    "O programa deve continuar rodando até o input ser vazio, ou seja, o usuário apertar enter sem digitar nenhum produto ou quantidade.\n",
    "\n",
    "Ao final do programa, ele deve printar todos os produtos e quantidades vendidas.\n",
    "\n",
    "Obs: Caso queira, para o print ficar mais visual, pode usar o join para cada item ser printado em uma linha.\n",
    "Sugestão para sua lista de produtos vendidos:"
   ]
  },
  {
   "cell_type": "raw",
   "metadata": {},
   "source": [
    "vendas = [\n",
    "    ['maçã', 5],\n",
    "    ['banana', 15],\n",
    "    ['azeite', 1],\n",
    "    ['vinho', 3],\n",
    "]"
   ]
  },
  {
   "cell_type": "code",
   "execution_count": 9,
   "metadata": {},
   "outputs": [
    {
     "name": "stdout",
     "output_type": "stream",
     "text": [
      "Nome do produto vendido: Abacate\n",
      "Quantidade vendida: 5\n",
      "Deseja cadastrar mais produtos? s/n:  s\n",
      "Nome do produto vendido: Bananas\n",
      "Quantidade vendida: 9\n",
      "Deseja cadastrar mais produtos? s/n:  s\n",
      "Nome do produto vendido: Laranja\n",
      "Quantidade vendida: 12\n",
      "Deseja cadastrar mais produtos? s/n:  s\n",
      "Nome do produto vendido: Morango\n",
      "Quantidade vendida: 21\n",
      "Deseja cadastrar mais produtos? s/n:  n\n",
      "Lista de produtos e suas quantidades:\n",
      "Abacate: 5\n",
      "Bananas: 9\n",
      "Laranja: 12\n",
      "Morango: 21\n",
      "Quantidade de produtos cadastrados: 4\n"
     ]
    }
   ],
   "source": [
    "#seu código aqui\n",
    "produtos = []\n",
    "qtd_produtos = []\n",
    "nome_produto = ''\n",
    "qtd_produto = 0\n",
    "pergunta = 'Deseja cadastrar mais produtos? s/n:  '\n",
    "resposta = 's'\n",
    "contador = 0\n",
    "\n",
    "while resposta.lower() != 'n':\n",
    "    contador += 1\n",
    "    nome_produto = input('Nome do produto vendido: ')\n",
    "    produtos.append(nome_produto)\n",
    "    qtd_produto = int(input('Quantidade vendida: '))\n",
    "    qtd_produtos.append(qtd_produto)\n",
    "    resposta = input(pergunta)\n",
    "    \n",
    "# Criando uma lista de strings combinando o nome do produto com sua quantidade\n",
    "lista_combinada = [f'{produtos[i]}: {qtd_produtos[i]}' for i in range(len(produtos))]\n",
    "\n",
    "print('Lista de produtos e suas quantidades:')\n",
    "for item in lista_combinada:\n",
    "    print(item)\n",
    "\n",
    "print('Quantidade de produtos cadastrados: {}'.format(contador))\n"
   ]
  },
  {
   "cell_type": "markdown",
   "metadata": {},
   "source": [
    "### Obs: Podemos fazer o While de 2 maneiras:\n",
    "\n",
    "1. While com a condição que finalize o programa\n",
    "2. While rodando para sempre, mas com uma condição dentro do while que dê um break no código.\n",
    "\n",
    "Vamos mostrar as 2 opções"
   ]
  }
 ],
 "metadata": {
  "kernelspec": {
   "display_name": "Python 3 (ipykernel)",
   "language": "python",
   "name": "python3"
  },
  "language_info": {
   "codemirror_mode": {
    "name": "ipython",
    "version": 3
   },
   "file_extension": ".py",
   "mimetype": "text/x-python",
   "name": "python",
   "nbconvert_exporter": "python",
   "pygments_lexer": "ipython3",
   "version": "3.11.5"
  }
 },
 "nbformat": 4,
 "nbformat_minor": 4
}
