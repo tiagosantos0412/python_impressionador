{
 "cells": [
  {
   "cell_type": "markdown",
   "metadata": {},
   "source": [
    "# Cuidado com o while -> Loop Infinito\n",
    "\n",
    "Sempre que for usar o comando while, lembre-se de ter certeza que o programa vai terminar em algum momento\n",
    "\n",
    "### Exemplo\n",
    "\n",
    "Digamos que temos uma lista de vendedores e as quantidades vendidas e queremos identificar todos os vendedores que bateram a meta de 50 vendas."
   ]
  },
  {
   "cell_type": "code",
   "execution_count": 7,
   "metadata": {},
   "outputs": [
    {
     "name": "stdout",
     "output_type": "stream",
     "text": [
      "Vendedores que bateram a meta foram: Maria com o valor de R$ 941\n",
      "Vendedores que bateram a meta foram: José com o valor de R$ 852\n",
      "Vendedores que bateram a meta foram: Antônio com o valor de R$ 783\n",
      "Vendedores que bateram a meta foram: João com o valor de R$ 714\n",
      "Vendedores que bateram a meta foram: Francisco com o valor de R$ 697\n",
      "Vendedores que bateram a meta foram: Ana com o valor de R$ 686\n",
      "Vendedores que bateram a meta foram: Luiz com o valor de R$ 685\n",
      "Vendedores que bateram a meta foram: Paulo com o valor de R$ 670\n",
      "Vendedores que bateram a meta foram: Carlos com o valor de R$ 631\n",
      "Vendedores que bateram a meta foram: Manoel com o valor de R$ 453\n",
      "Vendedores que bateram a meta foram: Pedro com o valor de R$ 386\n",
      "Vendedores que bateram a meta foram: Francisca com o valor de R$ 371\n",
      "Vendedores que bateram a meta foram: Marcos com o valor de R$ 294\n",
      "Vendedores que bateram a meta foram: Raimundo com o valor de R$ 269\n",
      "Vendedores que bateram a meta foram: Sebastião com o valor de R$ 259\n",
      "Vendedores que bateram a meta foram: Antônia com o valor de R$ 218\n",
      "Vendedores que bateram a meta foram: Marcelo com o valor de R$ 208\n",
      "Vendedores que bateram a meta foram: Jorge com o valor de R$ 163\n",
      "Vendedores que bateram a meta foram: Márcia com o valor de R$ 125\n",
      "Vendedores que bateram a meta foram: Geraldo com o valor de R$ 102\n",
      "Vendedores que bateram a meta foram: Adriana com o valor de R$ 87\n"
     ]
    }
   ],
   "source": [
    "vendas = [941, 852, 783, 714, 697, 686, 685, 670, 631, 453, 386, 371, 294, 269, 259, 218, 208, 163, 125, 102, 87, 47, 7]\n",
    "vendedores = ['Maria', 'José', 'Antônio', 'João', 'Francisco', 'Ana', 'Luiz', 'Paulo', 'Carlos', 'Manoel', 'Pedro', 'Francisca', 'Marcos', 'Raimundo', 'Sebastião', 'Antônia', 'Marcelo', 'Jorge', 'Márcia', 'Geraldo', 'Adriana', 'Sandra', 'Luis']\n",
    "meta = 50\n",
    "i = 0\n",
    "\n",
    "while vendas[i] > meta:\n",
    "    print(f'Vendedores que bateram a meta foram: {vendedores[i]} com o valor de R$ {vendas[i]}')\n",
    "    i = i + 1"
   ]
  }
 ],
 "metadata": {
  "kernelspec": {
   "display_name": "Python 3 (ipykernel)",
   "language": "python",
   "name": "python3"
  },
  "language_info": {
   "codemirror_mode": {
    "name": "ipython",
    "version": 3
   },
   "file_extension": ".py",
   "mimetype": "text/x-python",
   "name": "python",
   "nbconvert_exporter": "python",
   "pygments_lexer": "ipython3",
   "version": "3.11.5"
  }
 },
 "nbformat": 4,
 "nbformat_minor": 4
}
