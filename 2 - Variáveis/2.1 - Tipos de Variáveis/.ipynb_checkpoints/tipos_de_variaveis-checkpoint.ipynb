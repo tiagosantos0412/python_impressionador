{
 "cells": [
  {
   "cell_type": "markdown",
   "id": "83920bdb",
   "metadata": {},
   "source": [
    "# Tipos de Variáveis em Python\n",
    "\n",
    "**int ->** _inteiro_  \n",
    "**float ->** _números com casas decimais (ponto flutuante)_  \n",
    "**string ->** _texto_  \n",
    "**bool ou boolean ->** _True ou False_  \n",
    "\n",
    "**Obs:** Variáveis em Python não são declaradas explicitamente, mas isso não significa que você deve ficar mudando o tempo todo\n",
    "\n",
    "**Obs2:** Cuidados ao nomear uma variável para não utilizar palavras reservadas do Python"
   ]
  },
  {
   "cell_type": "code",
   "execution_count": 2,
   "id": "7ffd89d5",
   "metadata": {},
   "outputs": [
    {
     "data": {
      "text/plain": [
       "int"
      ]
     },
     "execution_count": 2,
     "metadata": {},
     "output_type": "execute_result"
    }
   ],
   "source": [
    "faturamento = 1000\n",
    "type(faturamento)"
   ]
  },
  {
   "cell_type": "code",
   "execution_count": 4,
   "id": "037e74dd",
   "metadata": {},
   "outputs": [
    {
     "data": {
      "text/plain": [
       "float"
      ]
     },
     "execution_count": 4,
     "metadata": {},
     "output_type": "execute_result"
    }
   ],
   "source": [
    "faturamento = 1000.00\n",
    "type(faturamento)"
   ]
  },
  {
   "cell_type": "code",
   "execution_count": 6,
   "id": "b84167cd",
   "metadata": {},
   "outputs": [
    {
     "data": {
      "text/plain": [
       "str"
      ]
     },
     "execution_count": 6,
     "metadata": {},
     "output_type": "execute_result"
    }
   ],
   "source": [
    "nome_funcionario = 'Tiago'\n",
    "type(nome_funcionario)"
   ]
  },
  {
   "cell_type": "code",
   "execution_count": 7,
   "id": "4d4bbab6",
   "metadata": {},
   "outputs": [
    {
     "data": {
      "text/plain": [
       "bool"
      ]
     },
     "execution_count": 7,
     "metadata": {},
     "output_type": "execute_result"
    }
   ],
   "source": [
    "ganha_bonus = True\n",
    "type(ganha_bonus)"
   ]
  }
 ],
 "metadata": {
  "kernelspec": {
   "display_name": "Python 3 (ipykernel)",
   "language": "python",
   "name": "python3"
  },
  "language_info": {
   "codemirror_mode": {
    "name": "ipython",
    "version": 3
   },
   "file_extension": ".py",
   "mimetype": "text/x-python",
   "name": "python",
   "nbconvert_exporter": "python",
   "pygments_lexer": "ipython3",
   "version": "3.11.5"
  }
 },
 "nbformat": 4,
 "nbformat_minor": 5
}
