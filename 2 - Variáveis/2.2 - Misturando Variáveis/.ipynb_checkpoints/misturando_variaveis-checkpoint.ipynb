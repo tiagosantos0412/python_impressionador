{
 "cells": [
  {
   "cell_type": "markdown",
   "id": "799de6ac",
   "metadata": {},
   "source": [
    "# Misturando variáveis"
   ]
  },
  {
   "cell_type": "code",
   "execution_count": 13,
   "id": "389ca6b4",
   "metadata": {},
   "outputs": [
    {
     "name": "stdout",
     "output_type": "stream",
     "text": [
      " Matrícula....: 12352\n",
      " Nome.........: Tiago Felipe \n",
      " Salário......: 3.2\n"
     ]
    }
   ],
   "source": [
    "salario = 3.200\n",
    "nome_funcionario = 'Tiago Felipe'\n",
    "id_matricula = 12352\n",
    "\n",
    "print(f' Matrícula....: {id_matricula}\\n Nome.........: {nome_funcionario} \\n Salário......: {salario}')"
   ]
  },
  {
   "cell_type": "code",
   "execution_count": 17,
   "id": "c9b95573",
   "metadata": {},
   "outputs": [
    {
     "name": "stdout",
     "output_type": "stream",
     "text": [
      "O faturamento da loja foi:  100\n"
     ]
    }
   ],
   "source": [
    "faturamento = 100\n",
    "print('O faturamento da loja foi: ', faturamento)"
   ]
  },
  {
   "cell_type": "code",
   "execution_count": 15,
   "id": "85eb6741",
   "metadata": {},
   "outputs": [
    {
     "name": "stdout",
     "output_type": "stream",
     "text": [
      "O faturamento da loja foi 20000. O custo da loja foi 6000. Assim, o lucro da loja foi 14000.\n"
     ]
    }
   ],
   "source": [
    "faturamento = 20000\n",
    "custo = 6000\n",
    "lucro = faturamento - custo\n",
    "\n",
    "print('O faturamento da loja foi {}. O custo da loja foi {}. Assim, o lucro da loja foi {}.'.format(faturamento, custo, lucro))"
   ]
  }
 ],
 "metadata": {
  "kernelspec": {
   "display_name": "Python 3 (ipykernel)",
   "language": "python",
   "name": "python3"
  },
  "language_info": {
   "codemirror_mode": {
    "name": "ipython",
    "version": 3
   },
   "file_extension": ".py",
   "mimetype": "text/x-python",
   "name": "python",
   "nbconvert_exporter": "python",
   "pygments_lexer": "ipython3",
   "version": "3.11.5"
  }
 },
 "nbformat": 4,
 "nbformat_minor": 5
}
