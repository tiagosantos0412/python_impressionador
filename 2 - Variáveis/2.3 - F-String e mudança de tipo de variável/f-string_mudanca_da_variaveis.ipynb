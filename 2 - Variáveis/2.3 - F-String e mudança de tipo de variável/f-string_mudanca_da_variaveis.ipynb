{
 "cells": [
  {
   "cell_type": "markdown",
   "id": "d7883ce7",
   "metadata": {},
   "source": [
    "### Utilizando F-STRING"
   ]
  },
  {
   "cell_type": "code",
   "execution_count": 4,
   "id": "dd66fc8f",
   "metadata": {},
   "outputs": [
    {
     "name": "stdout",
     "output_type": "stream",
     "text": [
      "O faturamento foi de 1000, o custo 400 e o lucro de 600.\n",
      "O faturamento foi de 1000, o custo 400 e o lucro de 600.\n"
     ]
    }
   ],
   "source": [
    "faturamento = 1000\n",
    "custo = 400\n",
    "\n",
    "lucro = faturamento - custo\n",
    "\n",
    "#com format\n",
    "print(\"O faturamento foi de {}, o custo {} e o lucro de {}.\".format(faturamento, custo, lucro))\n",
    "\n",
    "#com f-string\n",
    "print(f'O faturamento foi de {faturamento}, o custo {custo} e o lucro de {lucro}.')"
   ]
  },
  {
   "cell_type": "markdown",
   "id": "40edb036",
   "metadata": {},
   "source": [
    "### Mudança de tipo de variável\n",
    "\n",
    "**str() ->** _muda para string_  \n",
    "**int() ->** _muda para inteiro_  \n",
    "**float() ->** _muda para float_"
   ]
  },
  {
   "cell_type": "code",
   "execution_count": 9,
   "id": "e246b1a8",
   "metadata": {},
   "outputs": [
    {
     "name": "stdout",
     "output_type": "stream",
     "text": [
      "Entre com o faturamento referente ao mês 12/2023: 25000\n",
      "Entre com o custo referente ao mês 12/2023: 5142\n",
      "O lucro da empresa no mês de Dezembro de 2023 foi de : 19858.0.\n"
     ]
    }
   ],
   "source": [
    "faturamento = float(input(\"Entre com o faturamento referente ao mês 12/2023: \"))\n",
    "custo = float(input(\"Entre com o custo referente ao mês 12/2023: \"))\n",
    "lucro  = faturamento - custo\n",
    "\n",
    "print(f'O lucro da empresa no mês de Dezembro de 2023 foi de : {lucro}.')\n"
   ]
  }
 ],
 "metadata": {
  "kernelspec": {
   "display_name": "Python 3 (ipykernel)",
   "language": "python",
   "name": "python3"
  },
  "language_info": {
   "codemirror_mode": {
    "name": "ipython",
    "version": 3
   },
   "file_extension": ".py",
   "mimetype": "text/x-python",
   "name": "python",
   "nbconvert_exporter": "python",
   "pygments_lexer": "ipython3",
   "version": "3.11.5"
  }
 },
 "nbformat": 4,
 "nbformat_minor": 5
}
