{
 "cells": [
  {
   "cell_type": "markdown",
   "id": "79c53354",
   "metadata": {},
   "source": [
    "Meu primeiro Programa"
   ]
  },
  {
   "cell_type": "code",
   "execution_count": 41,
   "id": "7986bfca",
   "metadata": {
    "scrolled": true
   },
   "outputs": [
    {
     "name": "stdout",
     "output_type": "stream",
     "text": [
      "16\n",
      "Um texto qualquer\n",
      "Outro texto qualquer\n"
     ]
    }
   ],
   "source": [
    "print(6 + 10)\n",
    "print(\"Um texto qualquer\")\n",
    "print('Outro texto qualquer')"
   ]
  },
  {
   "cell_type": "markdown",
   "id": "7e4dac6d",
   "metadata": {},
   "source": [
    "Operações Básicas"
   ]
  },
  {
   "cell_type": "code",
   "execution_count": 42,
   "id": "e5155cf4",
   "metadata": {},
   "outputs": [
    {
     "name": "stdout",
     "output_type": "stream",
     "text": [
      "Soma: 2 + 2 =  4\n",
      "Subtração: 2 - 2 =  0\n",
      "Multiplicação: 2 * 2 =  4\n",
      "Divisão: 20 / 2 =  10.0\n",
      "Módulo ou resto da divisão: 7 % 3 =  1\n"
     ]
    }
   ],
   "source": [
    "print(\"Soma: 2 + 2 = \", 2 + 2)\n",
    "print(\"Subtração: 2 - 2 = \", 2 - 2)\n",
    "print(\"Multiplicação: 2 * 2 = \", 2 * 2)\n",
    "print(\"Divisão: 20 / 2 = \", 20 / 2)\n",
    "print(\"Módulo ou resto da divisão: 7 % 3 = \", 7 % 3)"
   ]
  },
  {
   "cell_type": "markdown",
   "id": "64f3c146",
   "metadata": {},
   "source": [
    "Simulando um erro de divisão por 0"
   ]
  },
  {
   "cell_type": "code",
   "execution_count": 43,
   "id": "997e067a",
   "metadata": {},
   "outputs": [
    {
     "ename": "ZeroDivisionError",
     "evalue": "division by zero",
     "output_type": "error",
     "traceback": [
      "\u001b[1;31m---------------------------------------------------------------------------\u001b[0m",
      "\u001b[1;31mZeroDivisionError\u001b[0m                         Traceback (most recent call last)",
      "Cell \u001b[1;32mIn[43], line 1\u001b[0m\n\u001b[1;32m----> 1\u001b[0m \u001b[38;5;28mprint\u001b[39m(\u001b[38;5;124m\"\u001b[39m\u001b[38;5;124mSimulando um erro de divisão por 0: 2 / 0 = \u001b[39m\u001b[38;5;124m\"\u001b[39m, \u001b[38;5;241m2\u001b[39m \u001b[38;5;241m/\u001b[39m \u001b[38;5;241m0\u001b[39m)\n",
      "\u001b[1;31mZeroDivisionError\u001b[0m: division by zero"
     ]
    }
   ],
   "source": [
    "print(\"Simulando um erro de divisão por 0: 2 / 0 = \", 2 / 0)"
   ]
  },
  {
   "cell_type": "markdown",
   "id": "d4dd8b02",
   "metadata": {},
   "source": [
    "Strings com Python"
   ]
  },
  {
   "cell_type": "code",
   "execution_count": null,
   "id": "ffbda043",
   "metadata": {},
   "outputs": [],
   "source": [
    "print(\"Concatenação!\")\n",
    "print(\"Meu nome é \" + \"Tiago\")\n",
    "print(\"Operação 'in', verifica se contém no texto!\")\n",
    "print('passou' in 'Você passou para a próxima fase!')"
   ]
  },
  {
   "cell_type": "markdown",
   "id": "676e61db",
   "metadata": {},
   "source": [
    "Variáveis"
   ]
  },
  {
   "cell_type": "code",
   "execution_count": 45,
   "id": "c486be68",
   "metadata": {},
   "outputs": [
    {
     "name": "stdout",
     "output_type": "stream",
     "text": [
      "Identificar quantos produtos sobraram no estoque...\n",
      "Quantidade no estoque: 60\n",
      "vermelho, necessidade de reposição imediata!\n",
      "Identificar o valor total das vendas...\n",
      "A venda dos produtos resultou no faturamento de: 72953.4\n"
     ]
    }
   ],
   "source": [
    "qtde_cadastrado = 320\n",
    "qtde_vendido = 260\n",
    "vlr_unitario = 280.59\n",
    "\n",
    "print(\"Identificar quantos produtos sobraram no estoque...\")\n",
    "estoque = qtde_cadastrado - qtde_vendido\n",
    "print(f'Quantidade no estoque: {estoque}')\n",
    "\n",
    "#Verificar se há necessidade de reposição\n",
    "\n",
    "if estoque >= 150:\n",
    "    cor = \"verde\"\n",
    "    print(f'{cor}, não há necessidade de reposição de peças nesse momento!')\n",
    "elif estoque < 150 and estoque >= 100:\n",
    "    cor = \"amarelo\"\n",
    "    print(f'{cor}, ainda há peças no estoque, porém mantenha antenção!')\n",
    "else:\n",
    "    cor = \"vermelho\"\n",
    "    print(f'{cor}, necessidade de reposição imediata!')\n",
    "\n",
    "\n",
    "print(\"Identificar o valor total das vendas...\")\n",
    "faturamento = qtde_vendido * vlr_unitario\n",
    "#formatando a variável para duas casas decimais\n",
    "faturamento_f = round(faturamento, 2)\n",
    "print(f'A venda dos produtos resultou no faturamento de: {faturamento_f}')\n",
    "\n"
   ]
  },
  {
   "cell_type": "markdown",
   "id": "1811e972",
   "metadata": {},
   "source": [
    "Obtendo informações do usuário"
   ]
  },
  {
   "cell_type": "code",
   "execution_count": 58,
   "id": "fc3bf090",
   "metadata": {},
   "outputs": [
    {
     "name": "stdout",
     "output_type": "stream",
     "text": [
      "Quantidade de peças cadastradas: 320\n",
      "Nome do vendedor: Tiago\n",
      "Quantidade de peças vendidas200\n",
      "Valor unitário de cada peça: 59.23\n",
      "\n",
      "\n",
      "Identificar quantos produtos sobraram no estoque...\n",
      "Quantidade no estoque: 120\n",
      "amarelo, ainda há peças no estoque, porém mantenha antenção!\n",
      "\n",
      "\n",
      "Identificar o valor total das vendas...\n",
      "A venda dos produtos resultou no faturamento de: 11846.0\n",
      "\n",
      "\n",
      "A comissão para o vendedor Tiago, será de: 355.38\n"
     ]
    }
   ],
   "source": [
    "qtde_cadastrado = int(input(\"Quantidade de peças cadastradas: \"))\n",
    "nome_vendedor = input(\"Nome do vendedor: \")\n",
    "qtde_vendido = int(input(\"Quantidade de peças vendidas\"))\n",
    "vlr_unitario = float(input(\"Valor unitário de cada peça: \"))\n",
    "\n",
    "print(\"\\n\")\n",
    "\n",
    "print(\"Identificar quantos produtos sobraram no estoque...\")\n",
    "estoque = qtde_cadastrado - qtde_vendido\n",
    "print(f'Quantidade no estoque: {estoque}')\n",
    "\n",
    "\n",
    "#Verificar se há necessidade de reposição\n",
    "\n",
    "if estoque >= 150:\n",
    "    cor = \"verde\"\n",
    "    print(f'{cor}, não há necessidade de reposição de peças nesse momento!')\n",
    "elif estoque < 150 and estoque >= 100:\n",
    "    cor = \"amarelo\"\n",
    "    print(f'{cor}, ainda há peças no estoque, porém mantenha antenção!')\n",
    "else:\n",
    "    cor = \"vermelho\"\n",
    "    print(f'{cor}, necessidade de reposição imediata!')\n",
    "\n",
    "print(\"\\n\")\n",
    "print(\"Identificar o valor total das vendas...\")\n",
    "faturamento = qtde_vendido * vlr_unitario\n",
    "\n",
    "#formatando a variável para duas casas decimais\n",
    "faturamento_f = round(faturamento, 2)\n",
    "print(f'A venda dos produtos resultou no faturamento de: {faturamento_f}')\n",
    "\n",
    "print(\"\\n\")\n",
    "#cáuclo de comissão do vendedor de 3%\n",
    "comissao = (faturamento_f * 3) / 100\n",
    "#formatar o valor da comissão\n",
    "comissao_f = round(comissao, 2)\n",
    "print(f'A comissão para o vendedor {nome_vendedor}, será de: {comissao_f}')\n"
   ]
  }
 ],
 "metadata": {
  "kernelspec": {
   "display_name": "Python 3 (ipykernel)",
   "language": "python",
   "name": "python3"
  },
  "language_info": {
   "codemirror_mode": {
    "name": "ipython",
    "version": 3
   },
   "file_extension": ".py",
   "mimetype": "text/x-python",
   "name": "python",
   "nbconvert_exporter": "python",
   "pygments_lexer": "ipython3",
   "version": "3.11.5"
  }
 },
 "nbformat": 4,
 "nbformat_minor": 5
}
