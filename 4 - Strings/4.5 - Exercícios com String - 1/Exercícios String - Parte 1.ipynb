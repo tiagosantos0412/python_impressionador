{
 "cells": [
  {
   "cell_type": "markdown",
   "metadata": {},
   "source": [
    "# Exercícios\n",
    "\n",
    "## 1. Cadastro de CPF\n",
    "\n",
    "Crie um programa para cadastro de CPF de clientes que recebe o CPF em um input box apenas com números.\n",
    "\n",
    "Ex: 'Insira seu CPF (digite apenas números)'\n",
    "\n",
    "Caso o usuário digite algo diferente de números ou digite menos de 11 caracteres (tamanho do CPF brasileiro), o programa deve exibir uma mensagem de \"Digite seu CPF corretamente e digite apenas números\""
   ]
  },
  {
   "cell_type": "code",
   "execution_count": 21,
   "metadata": {},
   "outputs": [
    {
     "name": "stdout",
     "output_type": "stream",
     "text": [
      "Digite o seu cpf: (Apenas números)36568593885365\n",
      "Digite seu CPF corretamente e digite apenas números\n"
     ]
    }
   ],
   "source": [
    "cpf = input('Digite o seu cpf: (Apenas números)')\n",
    "validacao = cpf.isnumeric()\n",
    "\n",
    "\n",
    "if validacao == False or len(cpf) != 11:\n",
    "    print(\"Digite seu CPF corretamente e digite apenas números\")\n",
    "else:\n",
    "    print(f'CPF inserido corretamente. {cpf}') "
   ]
  },
  {
   "cell_type": "markdown",
   "metadata": {},
   "source": [
    "## 2. Melhorando nosso Cadastro de CPF\n",
    "\n",
    "Agora, além das validações anteriores, vamos criar um input que permita que o usuário insira pontos, traços e inclusive espaços vazios.\n",
    "\n",
    "Nosso programa deve \"tratar\" o que o usuário inserir para padronizar o CPF dele em apenas números.\n",
    "\n",
    "A verificação de tamanho do CPF com 11 caracteres continua válida, mas ela só deve ser feita depois de retirar todos os pontos, traços e espaços do CPF que o cliente inserir e, uma vez retirados pontos, traços e espaços, devem sobrar apenas números no CPF. Qualquer outro caractere deve ser considerado inválido.\n",
    "\n",
    "No final, nosso programa deve exibir uma mensagem para o usuário, caso ele tenha inserido o CPF inválido ou então apenas deve printar o CPF correto já só com número."
   ]
  },
  {
   "cell_type": "code",
   "execution_count": 29,
   "metadata": {},
   "outputs": [
    {
     "name": "stdout",
     "output_type": "stream",
     "text": [
      "Digite o seu cpf:  365.685.938-85 \n",
      "CPF inserido corretamente. 36568593885\n"
     ]
    }
   ],
   "source": [
    "cpf = input('Digite o seu cpf: ')\n",
    "cpf = cpf.replace('.', '').replace('-', '')\n",
    "f_cpf = cpf.strip()\n",
    "\n",
    "if len(f_cpf) != 11:\n",
    "    print(\"Digite seu CPF corretamente\")\n",
    "else:\n",
    "    print(f'CPF inserido corretamente. {f_cpf}')\n"
   ]
  },
  {
   "cell_type": "markdown",
   "metadata": {},
   "source": [
    "## 3. Cadastro de e-mails\n",
    "\n",
    "- A Hashtag sempre se comunica com seus clientes por e-mail. Para isso, a gente tem em cada página um cadastro de nome e e-mail. Nesse cadastro, nosso sistema verifica se o e-mail que a pessoa inseriu é um e-mail válido, verificando se ele tem '@' e se depois do '@' tem algum ponto, afinal:\n",
    "\n",
    "- liragmail.com NÃO é um e-mail válido\n",
    "- lira@gmail NÃO é um e-mail válido\n",
    "- lira@gmail.com é um e-mail válido\n",
    "\n",
    "Crie um programa que permita o cadastro de nome e e-mail de uma pessoa (por meio de inputs) e que verifique:\n",
    "1. Se nome e e-mail foram preenchidos, caso contrário ele deve avisar para preencher todos os dados corretamente\n",
    "2. Se o e-mail contém '@' e se depois do '@' existe algum '.', caso contrário ele deve exibir uma mensagem de e-mail inválido\n",
    "\n",
    "Obs: Pode te ajudar lembrar do método .find da aula de Métodos de String. Você pode testar o que ele dá como resposta caso ele não encontre um item dentro da string"
   ]
  },
  {
   "cell_type": "code",
   "execution_count": 43,
   "metadata": {},
   "outputs": [
    {
     "name": "stdout",
     "output_type": "stream",
     "text": [
      "Cadastro de clientes\n",
      "Digite o seu nome...:Tiago\n",
      "Digite o seu email...:tiagosantos0412.com\n",
      "Nome ou e-mail inválidos!\n"
     ]
    }
   ],
   "source": [
    "print('Cadastro de clientes')\n",
    "nome = input('Digite o seu nome...:')\n",
    "email = input('Digite o seu email...:')\n",
    "validacao = ''\n",
    "if nome and email:\n",
    "    if email.find('@') > 0 and email.find('.com') > 0:\n",
    "        validacao = True\n",
    "    else:\n",
    "        validacao = False\n",
    "else:\n",
    "    validacao = False\n",
    "\n",
    "if validacao == True:\n",
    "    print('Usuário cadastrado!')\n",
    "    print(nome)\n",
    "    print(email)\n",
    "else:\n",
    "    print('Nome ou e-mail inválidos!')"
   ]
  }
 ],
 "metadata": {
  "kernelspec": {
   "display_name": "Python 3 (ipykernel)",
   "language": "python",
   "name": "python3"
  },
  "language_info": {
   "codemirror_mode": {
    "name": "ipython",
    "version": 3
   },
   "file_extension": ".py",
   "mimetype": "text/x-python",
   "name": "python",
   "nbconvert_exporter": "python",
   "pygments_lexer": "ipython3",
   "version": "3.11.5"
  }
 },
 "nbformat": 4,
 "nbformat_minor": 4
}
