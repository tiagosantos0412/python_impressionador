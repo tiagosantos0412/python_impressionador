{
 "cells": [
  {
   "cell_type": "markdown",
   "metadata": {},
   "source": [
    "# Exercícios\n",
    "\n",
    "## 1. Faturamento do Melhor e do Pior Mês do Ano\n",
    "\n",
    "Qual foi o valor de vendas do melhor mês do Ano?\n",
    "E valor do pior mês do ano?"
   ]
  },
  {
   "cell_type": "code",
   "execution_count": 51,
   "metadata": {},
   "outputs": [
    {
     "name": "stdout",
     "output_type": "stream",
     "text": [
      "['jan', 'fev', 'mar', 'abr', 'mai', 'jun', 'jul', 'ago', 'set', 'out', 'nov', 'dez']\n",
      "[25000, 29000, 22200, 17750, 15870, 19900, 19850, 20120, 17540, 15555, 49051, 9650]\n",
      "O valor de vendas do melhor mês do ano foi: 49051\n",
      "valor de vendas do pior mês do ano foi: 9650\n"
     ]
    }
   ],
   "source": [
    "meses = ['jan', 'fev', 'mar', 'abr', 'mai', 'jun', 'jul', 'ago', 'set', 'out', 'nov', 'dez']\n",
    "vendas_1sem = [25000, 29000, 22200, 17750, 15870, 19900]\n",
    "vendas_2sem = [19850, 20120, 17540, 15555, 49051, 9650]\n",
    "total_vendas = vendas_1sem + vendas_2sem\n",
    "\n",
    "print(meses)\n",
    "print(total_vendas)\n",
    "\n",
    "# Encontrando o índice do menor valor em total_vendas\n",
    "indice_menor_valor = total_vendas.index(min(total_vendas))\n",
    "\n",
    "# Encontrando o índice do maior valor em total_vendas\n",
    "indice_maior_valor = total_vendas.index(max(total_vendas))\n",
    "\n",
    "print(f'O valor de vendas do melhor mês do ano foi: {total_vendas[indice_maior_valor]}')\n",
    "print(f'valor de vendas do pior mês do ano foi: {total_vendas[indice_menor_valor]}')"
   ]
  },
  {
   "cell_type": "markdown",
   "metadata": {},
   "source": [
    "## 2. Continuação\n",
    "\n",
    "Agora relacione as duas listas para printar 'O melhor mês do ano foi {} com {} vendas' e o mesmo para o pior mês do ano.\n",
    "\n",
    "Calcule também o faturamento total do Ano e quanto que o melhor mês representou do faturamento total.\n",
    "\n",
    "Obs: Para o faturamento total, pode usar a função sum(lista) que soma todos os itens de uma lista"
   ]
  },
  {
   "cell_type": "code",
   "execution_count": 72,
   "metadata": {},
   "outputs": [
    {
     "name": "stdout",
     "output_type": "stream",
     "text": [
      "['jan', 'fev', 'mar', 'abr', 'mai', 'jun', 'jul', 'ago', 'set', 'out', 'nov', 'dez']\n",
      "[25000, 29000, 22200, 17750, 15870, 19900, 19850, 20120, 17540, 15555, 49051, 9650]\n",
      "O melhor mês de venda no ano foi o mês de nov com um faturamento total de 49051\n",
      "O pior mês de venda no ano foi o mês de dez com um faturamento total de 9650\n",
      "O faturamento total no ano foi de: 261,486\n",
      "O melhor mês representou 18.8% das vendas do ano todo!\n"
     ]
    }
   ],
   "source": [
    "meses = ['jan', 'fev', 'mar', 'abr', 'mai', 'jun', 'jul', 'ago', 'set', 'out', 'nov', 'dez']\n",
    "vendas_1sem = [25000, 29000, 22200, 17750, 15870, 19900]\n",
    "vendas_2sem = [19850, 20120, 17540, 15555, 49051, 9650]\n",
    "total_vendas = vendas_1sem + vendas_2sem\n",
    "\n",
    "print(meses)\n",
    "print(total_vendas)\n",
    "\n",
    "faturamento_total = sum(total_vendas)\n",
    "\n",
    "# Encontrando o índice do menor valor em total_vendas\n",
    "indice_menor_valor = total_vendas.index(min(total_vendas))\n",
    "\n",
    "# Encontrando o índice do maior valor em total_vendas\n",
    "indice_maior_valor = total_vendas.index(max(total_vendas))\n",
    "\n",
    "# Encontrando o maior valor em total_vendas\n",
    "maior_valor = total_vendas[indice_maior_valor]\n",
    "\n",
    "print(f'O melhor mês de venda no ano foi o mês de {meses[indice_maior_valor]} com ' \n",
    "      f'um faturamento total de {total_vendas[indice_maior_valor]}')\n",
    "print(f'O pior mês de venda no ano foi o mês de {meses[indice_menor_valor]} com '\n",
    "      f'um faturamento total de {total_vendas[indice_menor_valor]}')\n",
    "\n",
    "percentual_vendas = maior_valor / faturamento_total\n",
    "\n",
    "print(f'O faturamento total no ano foi de: {faturamento_total:,}')\n",
    "print('O melhor mês representou {:.1%} das vendas do ano todo!'.format(percentual_vendas))"
   ]
  },
  {
   "cell_type": "markdown",
   "metadata": {},
   "source": [
    "## 3. Crie uma lista com o top 3 valores de vendas do ano (sem fazer \"no olho\")\n",
    "\n",
    "Dica: o método remove retira um item da lista."
   ]
  },
  {
   "cell_type": "code",
   "execution_count": 73,
   "metadata": {},
   "outputs": [
    {
     "name": "stdout",
     "output_type": "stream",
     "text": [
      "[25000, 29000, 22200, 17750, 15870, 19900, 19850, 20120, 17540, 15555, 49051, 9650]\n",
      "[49051, 29000, 25000]\n"
     ]
    }
   ],
   "source": [
    "print(total_vendas)\n",
    "top3 = []\n",
    "contador = 0\n",
    "while contador <= 2:\n",
    "    maior_valor = max(total_vendas)\n",
    "    top3.append(maior_valor)\n",
    "    total_vendas.remove(maior_valor)\n",
    "    contador += 1\n",
    "print(top3)\n",
    "\n"
   ]
  }
 ],
 "metadata": {
  "kernelspec": {
   "display_name": "Python 3 (ipykernel)",
   "language": "python",
   "name": "python3"
  },
  "language_info": {
   "codemirror_mode": {
    "name": "ipython",
    "version": 3
   },
   "file_extension": ".py",
   "mimetype": "text/x-python",
   "name": "python",
   "nbconvert_exporter": "python",
   "pygments_lexer": "ipython3",
   "version": "3.11.5"
  }
 },
 "nbformat": 4,
 "nbformat_minor": 4
}
