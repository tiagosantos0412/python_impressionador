{
 "cells": [
  {
   "cell_type": "markdown",
   "metadata": {},
   "source": [
    "# Exercícios\n",
    "\n",
    "## 1. Mudança de Carga Tributária\n",
    "\n",
    "- Reformas e mudanças de cargas tributárias são bem comuns no Brasil.\n",
    "\n",
    "Digamos que você trabalhe em uma empresa de ecommerce\n",
    "\n",
    "No Brasil, o imposto sobre livros é zerado. De um ano para o outro, o governo criou um novo imposto que incide em 10% sobre o valor dos livros e agora você precisa alterar o registro dos preços dos livros da empresa para garantir que esse imposto vai ser repassado para o preço final do produto.\n",
    "\n",
    "Crie um código que recalcule o valor do livro da sua lista de produtos e ajuste na tabela.\n",
    "\n",
    "Além disso, calcule qual vai ser o impacto financeiro da criação desse imposto para a empresa (ou seja, quanto que o imposto vai aumentar de custo para a empresa)\n",
    "\n",
    "Obs: para facilitar, colocamos apenas 1 livro na lista, mas em breve vamos aprender um for que vai adaptar esse cenário para qualquer quantidade de livros na sua lista.\n",
    "\n",
    "Obs2: Seu código deve funcionar mesmo que não haja livros na lista de produtos da empresa"
   ]
  },
  {
   "cell_type": "code",
   "execution_count": 10,
   "metadata": {},
   "outputs": [
    {
     "name": "stdout",
     "output_type": "stream",
     "text": [
      "[[10000, 2500], [50000, 40], [7000, 1200], [20000, 1500], [5800, 1300], [7200, 2500], [200, 800], [3300, 700], [1900, 400]]\n",
      "Vamos pagar R$ 200,000.0 a mais de impostos.\n"
     ]
    }
   ],
   "source": [
    "produtos = ['computador', 'livro', 'tablet', 'celular', 'tv', 'ar condicionado', 'alexa', 'máquina de café', 'kindle']\n",
    "\n",
    "#cada item da lista dos produtos corresponde a quantidade de vendas no mês e preço, nessa ordem\n",
    "produtos_ecommerce = [\n",
    "    [10000, 2500],\n",
    "    [50000, 40],\n",
    "    [7000, 1200],\n",
    "    [20000, 1500],\n",
    "    [5800, 1300],\n",
    "    [7200, 2500],\n",
    "    [200, 800],\n",
    "    [3300, 700],\n",
    "    [1900, 400]\n",
    "]\n",
    "\n",
    "print(produtos_ecommerce)\n",
    "\n",
    "'''\n",
    "if 'livro' in produtos:\n",
    "    i = produtos.index('livro')\n",
    "    valor_livro = produtos_ecommerce[i][1]\n",
    "    percentual = (valor_livro * 10) / 100\n",
    "    valor_corrigido = valor_livro + percentual\n",
    "    produtos_ecommerce[i][1] = valor_corrigido\n",
    "    print(produtos_ecommerce)\n",
    "else:\n",
    "    print('Não existe livros em produtos')\n",
    "'''\n",
    "\n",
    "if 'livro' in produtos:\n",
    "    i = produtos.index('livro')\n",
    "    total_antigo = produtos_ecommerce[i][0] * produtos_ecommerce[i][1]\n",
    "    produtos_ecommerce[i][1] = produtos_ecommerce[i][1] * 1.1\n",
    "    \n",
    "    total_novo = produtos_ecommerce[i][0] * produtos_ecommerce[i][1]\n",
    "    imposto = total_novo - total_antigo\n",
    "   \n",
    "else:\n",
    "    print('Não existe livros em produtos')\n",
    "\n",
    "\n",
    "print('Vamos pagar R$ {:,} a mais de impostos.'.format(imposto))\n",
    "\n"
   ]
  }
 ],
 "metadata": {
  "kernelspec": {
   "display_name": "Python 3 (ipykernel)",
   "language": "python",
   "name": "python3"
  },
  "language_info": {
   "codemirror_mode": {
    "name": "ipython",
    "version": 3
   },
   "file_extension": ".py",
   "mimetype": "text/x-python",
   "name": "python",
   "nbconvert_exporter": "python",
   "pygments_lexer": "ipython3",
   "version": "3.11.5"
  }
 },
 "nbformat": 4,
 "nbformat_minor": 4
}
