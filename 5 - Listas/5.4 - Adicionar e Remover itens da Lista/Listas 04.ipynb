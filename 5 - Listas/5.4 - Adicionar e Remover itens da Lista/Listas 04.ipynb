{
 "cells": [
  {
   "cell_type": "markdown",
   "metadata": {},
   "source": [
    "# Adicionar e Remover itens de uma lista\n",
    "\n",
    "Adicionar:<br>\n",
    "lista.append(item)\n",
    "\n",
    "Remover:<br>\n",
    "item_removido = lista.pop(indice)<br>\n",
    "lista.remove(item)\n",
    "\n",
    "Digamos que você está construindo o controle de produtos da Apple.<br>\n",
    "E a Apple lançou o IPhone 11 e irá tirar dos seus estoques o IPhone X"
   ]
  },
  {
   "cell_type": "code",
   "execution_count": 8,
   "metadata": {},
   "outputs": [
    {
     "name": "stdout",
     "output_type": "stream",
     "text": [
      "['apple tv', 'mac', 'iphone x', 'IPad', 'apple watch', 'mac book', 'airpods']\n",
      "['apple tv', 'mac', 'iphone x', 'IPad', 'apple watch', 'mac book', 'airpods', 'iphone 12']\n",
      "['apple tv', 'mac', 'IPad', 'apple watch', 'mac book', 'airpods', 'iphone 12']\n",
      "Removemos o IPad, da nosssa lista de produtos.\n",
      "['apple tv', 'mac', 'apple watch', 'mac book', 'airpods', 'iphone 12']\n"
     ]
    }
   ],
   "source": [
    "produtos = ['apple tv', 'mac', 'iphone x', 'IPad', 'apple watch', 'mac book', 'airpods']\n",
    "print(produtos)\n",
    "# adicionar o iphone 12\n",
    "produtos.append('iphone 12')\n",
    "print(produtos)\n",
    "\n",
    "# remover o iphone x\n",
    "produtos.remove('iphone x')\n",
    "print(produtos)\n",
    "\n",
    "# remover produto com pop e armazenando na variável\n",
    "item_removido = produtos.pop(2)\n",
    "print(\"Removemos o {}, da nosssa lista de produtos.\".format(item_removido))\n",
    "print(produtos)"
   ]
  },
  {
   "cell_type": "markdown",
   "metadata": {},
   "source": [
    "## Existem 2 formas de tratar o erro:\n",
    "\n",
    "1. Criar um if para evitar que ele aconteça\n",
    "\n",
    "2. Esperar que ele possa acontecer e tratar caso o erro aconteça com:"
   ]
  },
  {
   "cell_type": "raw",
   "metadata": {},
   "source": [
    "try:\n",
    "    tentar fazer\n",
    "except:\n",
    "    caso dê errado"
   ]
  },
  {
   "cell_type": "code",
   "execution_count": 16,
   "metadata": {},
   "outputs": [
    {
     "name": "stdout",
     "output_type": "stream",
     "text": [
      "Produto não encontrado!\n"
     ]
    }
   ],
   "source": [
    "#Tratando o erro com o if\n",
    "\n",
    "produtos = ['apple tv', 'mac', 'iphone x', 'IPad', 'apple watch', 'mac book', 'airpods']\n",
    "\n",
    "consulta = 'iphonex'\n",
    "if consulta in produtos:\n",
    "    produtos.remove(consulta)\n",
    "    print(produtos)\n",
    "else:\n",
    "    print(\"Produto não encontrado!\")\n"
   ]
  },
  {
   "cell_type": "code",
   "execution_count": null,
   "metadata": {},
   "outputs": [],
   "source": [
    "#Tratando o erro com o try: except:\n",
    "\n",
    "produtos = ['apple tv', 'mac', 'iphone x', 'IPad', 'apple watch', 'mac book', 'airpods']\n",
    "consulta = 'iphonex'\n",
    "try:\n",
    "    produtos\n"
   ]
  }
 ],
 "metadata": {
  "kernelspec": {
   "display_name": "Python 3 (ipykernel)",
   "language": "python",
   "name": "python3"
  },
  "language_info": {
   "codemirror_mode": {
    "name": "ipython",
    "version": 3
   },
   "file_extension": ".py",
   "mimetype": "text/x-python",
   "name": "python",
   "nbconvert_exporter": "python",
   "pygments_lexer": "ipython3",
   "version": "3.11.5"
  }
 },
 "nbformat": 4,
 "nbformat_minor": 4
}
