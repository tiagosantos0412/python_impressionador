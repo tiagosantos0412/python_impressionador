{
 "cells": [
  {
   "cell_type": "markdown",
   "metadata": {},
   "source": [
    "# Exercícios\n",
    "\n",
    "## 1. Calculando % de uma lista\n",
    "\n",
    "Faremos algo parecido com \"filtrar\" uma lista. Mais pra frente no curso aprenderemos outras formas de fazer isso, mas com o nosso conhecimentoa atual já conseguimos resolver o desafio.\n",
    "\n",
    "Digamos que a gente tenha uma lista de vendedores e ao invés de saber todos os vendedores que bateram a meta, eu quero conseguir calcular o % de vendedores que bateram a meta. Ou seja, se temos 10 vendedores e 3 bateram a meta, temos 30% dos vendedores que bateram a meta."
   ]
  },
  {
   "cell_type": "code",
   "execution_count": 26,
   "metadata": {},
   "outputs": [
    {
     "name": "stdout",
     "output_type": "stream",
     "text": [
      "O percentual de vendedores que bateram a meta foi de: 50.00%\n"
     ]
    }
   ],
   "source": [
    "meta = 10000\n",
    "vendedores_meta = []\n",
    "\n",
    "vendas = [\n",
    "    ['João', 15000],\n",
    "    ['Julia', 27000],\n",
    "    ['Marcus', 9900],\n",
    "    ['Maria', 3750],\n",
    "    ['Ana', 10300],\n",
    "    ['Alon', 7870],\n",
    "]\n",
    "#seu código aqui\n",
    "for lista in vendas:\n",
    "    if lista[1] > meta:\n",
    "        vendedores_meta.append(lista)\n",
    "qtd_vendedores = len(vendas)\n",
    "qtd_meta_vendedores = len(vendedores_meta)\n",
    "percentual_meta_vendedores = (qtd_meta_vendedores / qtd_vendedores) * 100\n",
    "\n",
    "print(f'O percentual de vendedores que bateram a meta foi de: {percentual_meta_vendedores:.2f}%')"
   ]
  },
  {
   "cell_type": "code",
   "execution_count": 31,
   "metadata": {},
   "outputs": [
    {
     "name": "stdout",
     "output_type": "stream",
     "text": [
      "O percentual de vendedores que bateram a meta foi de: 50.00%\n"
     ]
    }
   ],
   "source": [
    "#Calculo diretamente na lista\n",
    "acima_meta = []\n",
    "qtd_meta = 0\n",
    "meta_percentual = 0\n",
    "for venda in vendas:\n",
    "    if venda[1] > meta:\n",
    "        qtd_meta += 1\n",
    "        \n",
    "meta_percentual = (qtd_meta / len(vendas)) * 100\n",
    "print(f'O percentual de vendedores que bateram a meta foi de: {meta_percentual:.2f}%')"
   ]
  },
  {
   "cell_type": "markdown",
   "metadata": {},
   "source": [
    "- Vamos resolver de 2 formas:\n",
    "    1. Criando uma lista auxiliar apenas com os vendedores que bateram a meta\n",
    "    2. Fazendo o cálculo diretamente na lista que já temos"
   ]
  },
  {
   "cell_type": "markdown",
   "metadata": {},
   "source": [
    "## Para treinar uma estrutura parecida, crie um código para responder: quem foi o vendedor que mais vendeu?"
   ]
  },
  {
   "cell_type": "code",
   "execution_count": 35,
   "metadata": {},
   "outputs": [
    {
     "name": "stdout",
     "output_type": "stream",
     "text": [
      "['Julia', 27000]\n"
     ]
    }
   ],
   "source": [
    "#seu código aqui\n",
    "maior_valor = vendas[0]\n",
    "for venda in vendas:\n",
    "    if venda[1] > maior_valor[1]:\n",
    "        maior_valor = venda\n",
    "print(maior_valor)"
   ]
  }
 ],
 "metadata": {
  "kernelspec": {
   "display_name": "Python 3 (ipykernel)",
   "language": "python",
   "name": "python3"
  },
  "language_info": {
   "codemirror_mode": {
    "name": "ipython",
    "version": 3
   },
   "file_extension": ".py",
   "mimetype": "text/x-python",
   "name": "python",
   "nbconvert_exporter": "python",
   "pygments_lexer": "ipython3",
   "version": "3.11.5"
  }
 },
 "nbformat": 4,
 "nbformat_minor": 4
}
