{
 "cells": [
  {
   "cell_type": "code",
   "execution_count": 1,
   "id": "8c06a3c4-72eb-4b10-8606-237d4ccf692c",
   "metadata": {},
   "outputs": [
    {
     "name": "stdin",
     "output_type": "stream",
     "text": [
      "Pressione Enter para fechar o navegador... \n"
     ]
    }
   ],
   "source": [
    "from selenium import webdriver\n",
    "from selenium.webdriver.chrome.service import Service\n",
    "from webdriver_manager.chrome import ChromeDriverManager\n",
    "\n",
    "# Instala o ChromeDriver automaticamente\n",
    "servico = Service(ChromeDriverManager().install())\n",
    "navegador = webdriver.Chrome(service=servico)\n",
    "\n",
    "navegador.get('https://www.hashtagtreinamentos.com/todos-os-cursos')\n",
    "\n",
    "# Aguarda uma entrada do usuário antes de terminar\n",
    "input(\"Pressione Enter para fechar o navegador...\")\n",
    "\n",
    "# Fecha o navegador\n",
    "navegador.quit()"
   ]
  },
  {
   "cell_type": "code",
   "execution_count": null,
   "id": "9519c459-962a-4c11-9785-4f95cc719b33",
   "metadata": {},
   "outputs": [],
   "source": []
  }
 ],
 "metadata": {
  "kernelspec": {
   "display_name": "Python 3 (ipykernel)",
   "language": "python",
   "name": "python3"
  },
  "language_info": {
   "codemirror_mode": {
    "name": "ipython",
    "version": 3
   },
   "file_extension": ".py",
   "mimetype": "text/x-python",
   "name": "python",
   "nbconvert_exporter": "python",
   "pygments_lexer": "ipython3",
   "version": "3.11.7"
  }
 },
 "nbformat": 4,
 "nbformat_minor": 5
}
