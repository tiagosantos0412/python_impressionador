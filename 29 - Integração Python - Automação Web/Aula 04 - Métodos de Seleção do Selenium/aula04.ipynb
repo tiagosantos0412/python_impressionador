{
 "cells": [
  {
   "cell_type": "code",
   "execution_count": 1,
   "id": "71b590d1-b3a4-44e0-a2ed-ac5b4cf1f561",
   "metadata": {},
   "outputs": [
    {
     "name": "stdin",
     "output_type": "stream",
     "text": [
      "Pressione Enter para fechar o navegador... \n"
     ]
    }
   ],
   "source": [
    "from selenium import webdriver\n",
    "from selenium.webdriver.chrome.service import Service\n",
    "from webdriver_manager.chrome import ChromeDriverManager\n",
    "# Na importação abaixo vamos setar como vamos selecionar este elemento\n",
    "from selenium.webdriver.common.by import By \n",
    "\n",
    "# Instala o ChromeDriver automaticamente\n",
    "servico = Service(ChromeDriverManager().install())\n",
    "navegador = webdriver.Chrome(service=servico)\n",
    "\n",
    "navegador.get('https://www.hashtagtreinamentos.com/todos-os-cursos')\n",
    "\n",
    "#Para selecionar um elemento dentro de uma página html por exemplo, temos duas opções:\n",
    "#navegador.find_element ou (retorna um único item)\n",
    "#navegador.find_elements (retorna uma lista de itens)\n",
    "\n",
    "# Localizei um elemento com o id firstname e salvei em uma variável\n",
    "campo_nome = navegador.find_element(By.ID, 'firstname')\n",
    "# Acessei a variável e setei o nome, de acordo a instrução do formulário \n",
    "campo_nome.send_keys('Tiago') \n",
    "\n",
    "# Localizei um elemento com o id firstname e desta vez não salvei em uma variável,\n",
    "# mas sim setei o email no momento em que o elemento foi localizado\n",
    "navegador.find_element(By.ID, 'email').send_keys('tiagosantos@gmail.com')\n",
    "\n",
    "# Para o botão podemos selecionar através do nome da classe e solicitar o click após a localização\n",
    "navegador.find_element(By.CLASS_NAME, 'botao-formulario-newsletter').click()\n",
    "\n",
    "# Aguarda uma entrada do usuário antes de terminar\n",
    "input(\"Pressione Enter para fechar o navegador...\")\n",
    "\n",
    "# Fecha o navegador\n",
    "navegador.quit()\n"
   ]
  },
  {
   "cell_type": "code",
   "execution_count": null,
   "id": "0de0f078-88ed-4f21-8f07-4dd9e7710481",
   "metadata": {},
   "outputs": [],
   "source": []
  }
 ],
 "metadata": {
  "kernelspec": {
   "display_name": "Python 3 (ipykernel)",
   "language": "python",
   "name": "python3"
  },
  "language_info": {
   "codemirror_mode": {
    "name": "ipython",
    "version": 3
   },
   "file_extension": ".py",
   "mimetype": "text/x-python",
   "name": "python",
   "nbconvert_exporter": "python",
   "pygments_lexer": "ipython3",
   "version": "3.11.7"
  }
 },
 "nbformat": 4,
 "nbformat_minor": 5
}
